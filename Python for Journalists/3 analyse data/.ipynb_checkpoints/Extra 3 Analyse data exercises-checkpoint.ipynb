{
 "cells": [
  {
   "cell_type": "markdown",
   "metadata": {},
   "source": [
    "# Extra: 3 Analyse data exercises"
   ]
  },
  {
   "cell_type": "markdown",
   "metadata": {},
   "source": [
    "Welcome to this Jupyter Notebook! \n",
    "\n",
    "This notebook is part of the course Python for Journalists at [datajournalism.com](https://datajournalism.com/watch/python-for-journalists). The data used originally comes from [the Electoral Commission website](http://search.electoralcommission.org.uk/Search?currentPage=1&rows=10&sort=AcceptedDate&order=desc&tab=1&open=filter&et=pp&isIrishSourceYes=false&isIrishSourceNo=false&date=Reported&from=&to=&quarters=2018Q12&rptPd=3617&prePoll=false&postPoll=false&donorStatus=individual&donorStatus=tradeunion&donorStatus=company&donorStatus=unincorporatedassociation&donorStatus=publicfund&donorStatus=other&donorStatus=registeredpoliticalparty&donorStatus=friendlysociety&donorStatus=trust&donorStatus=limitedliabilitypartnership&donorStatus=impermissibledonor&donorStatus=na&donorStatus=unidentifiabledonor&donorStatus=buildingsociety&register=ni&register=gb&optCols=Register&optCols=IsIrishSource&optCols=ReportingPeriodName), but is edited for training purposes. The  edited dataset is available on the course website and its [Github repo](https://github.com/winnydejong/pythonforjournalists). \n",
    "\n",
    "This notebook contains some exercises for you to practice your newly learned skills with, after finishing module 3 of the Python for Journalists course. Note: since this a later added extra, there is no video to accompany this notebook.\n",
    "\n",
    "## About Jupyter Notebooks and Pandas\n",
    "Right now you're looking at a Jupyter Notebook: an interactive, browser based programming environment. You can use these notebooks to program in R, Julia or Python - as you'll be doing later on. Read more about Jupyter Notebook in the [Jupyter Notebook Quick Start Guide](https://jupyter-notebook-beginner-guide.readthedocs.io/en/latest/what_is_jupyter.html). \n",
    "  \n",
    "To analyse up our data, we'll be using Python and Pandas. Pandas is an open-source Python library - basically an extra toolkit to go with Python - that is designed for data analysis. Pandas is flexible, easy to use and has lots of useful functions built right in. Read more about Pandas and its features in [the Pandas documentation](https://pandas.pydata.org/pandas-docs/stable/). That Pandas functions in ways similar to both spreadsheets and SQL databases (though the latter won't be discussed in this course), makes it beginner friendly. :)  \n",
    "\n",
    "**Notebook shortcuts**  \n",
    "\n",
    "Within Jupyter Notebooks, there are some shortcuts you can use. If you'll be using more notebooks for your data analysis in the future, you'll remember these shortcuts soon enough. :) \n",
    "\n",
    "* `esc` will take you into command mode\n",
    "* `a` will insert cell above\n",
    "* `b` will insert cell below\n",
    "* `shift then tab` will show you the documentation for your code\n",
    "* `shift and enter` will run your cell\n",
    "* ` d d` will delete a cell\n",
    "\n",
    "**Pandas dictionary**\n",
    "\n",
    "* **dataframe**: dataframe is Pandas speak for a table with a labeled y-axis, also known as an index. (The index usually starts at 0.)\n",
    "* **series**: a series is a list, a series can be made of a single column within a dataframe.\n",
    "\n",
    "Before we dive in, a little more about Jupyter Notebooks. Every notebooks is made out of cells. A cell can either contain Markdown text - like this one - or code. In the latter you can execute your code. To see what that means, type the following command in the next cell `print(\"hello world\")`."
   ]
  },
  {
   "cell_type": "code",
   "execution_count": null,
   "metadata": {},
   "outputs": [],
   "source": []
  },
  {
   "cell_type": "markdown",
   "metadata": {},
   "source": [
    "# Setup\n",
    "\n",
    "During the exercises you'll use the Pandas library again. Import Pandas as pd here:"
   ]
  },
  {
   "cell_type": "code",
   "execution_count": null,
   "metadata": {},
   "outputs": [],
   "source": []
  },
  {
   "cell_type": "markdown",
   "metadata": {},
   "source": [
    "Now we need some data to work with; luckily you know how to import results_clean.csv. Don't you? "
   ]
  },
  {
   "cell_type": "code",
   "execution_count": null,
   "metadata": {},
   "outputs": [],
   "source": []
  },
  {
   "cell_type": "markdown",
   "metadata": {
    "toc-hr-collapsed": true
   },
   "source": [
    "# Explore the data\n",
    "\n",
    "Before you start with the exercises below, it's a good idea to get to know the data a bit. "
   ]
  },
  {
   "cell_type": "markdown",
   "metadata": {},
   "source": [
    "### Dimensions\n",
    "\n",
    "If you use ``len()``, Pandas will tell you how long your dataframe is; it will give you the number of rows of df."
   ]
  },
  {
   "cell_type": "code",
   "execution_count": null,
   "metadata": {},
   "outputs": [],
   "source": []
  },
  {
   "cell_type": "markdown",
   "metadata": {},
   "source": [
    "In case you'd like to know the number of rows and columns, you can use ``.shape``."
   ]
  },
  {
   "cell_type": "code",
   "execution_count": null,
   "metadata": {},
   "outputs": [],
   "source": []
  },
  {
   "cell_type": "markdown",
   "metadata": {},
   "source": [
    "To get the total number of elements in the DataFrame, use the ``.size`` attribute. It will give your the product of the number of rows and the number of columns:\n"
   ]
  },
  {
   "cell_type": "code",
   "execution_count": null,
   "metadata": {},
   "outputs": [],
   "source": []
  },
  {
   "cell_type": "markdown",
   "metadata": {},
   "source": [
    "### Sample\n",
    "Please look at a sample of the dataset, use ``.sample()``."
   ]
  },
  {
   "cell_type": "code",
   "execution_count": null,
   "metadata": {},
   "outputs": [],
   "source": []
  },
  {
   "cell_type": "markdown",
   "metadata": {},
   "source": [
    "Note that if you simply use ``.sample``, you'll take a sample of 1. If you want to take a sample of N size, use ``.sample(N)``."
   ]
  },
  {
   "cell_type": "code",
   "execution_count": null,
   "metadata": {},
   "outputs": [],
   "source": []
  },
  {
   "cell_type": "markdown",
   "metadata": {},
   "source": [
    "### Statistical description\n",
    "\n",
    "Use ``.describe()`` to look further into the data."
   ]
  },
  {
   "cell_type": "code",
   "execution_count": null,
   "metadata": {},
   "outputs": [],
   "source": []
  },
  {
   "cell_type": "markdown",
   "metadata": {},
   "source": [
    "# Clean data\n",
    "\n",
    "Whenever you export a dataframe to a csv, Pandas includes the index unless you explictly tells it not to do so. When importing said csv again, the unnamed index returns as 'Unnamed: 0'. Let's remove that column using ``.drop()``."
   ]
  },
  {
   "cell_type": "code",
   "execution_count": null,
   "metadata": {},
   "outputs": [],
   "source": []
  },
  {
   "cell_type": "markdown",
   "metadata": {},
   "source": [
    "Take a sample to check if it worked."
   ]
  },
  {
   "cell_type": "code",
   "execution_count": null,
   "metadata": {},
   "outputs": [],
   "source": []
  },
  {
   "cell_type": "markdown",
   "metadata": {},
   "source": [
    "# Excercises"
   ]
  },
  {
   "cell_type": "markdown",
   "metadata": {},
   "source": [
    "Like all journalism, most data journalism starts with a question. The difference between journalism and data-driven journalism, is that the journalist working the story interviews data tables instead of people.\n",
    "\n",
    "Therefore all exercises start with a question. In newsrooms people both think and talk in questions all the time. So starting with a simple question, means for most following this course starting in there comfortzone. Which is a nice place to begin, don't you think? \n",
    "\n",
    "**Every exercise follows the same pattern**   \n",
    "- the question that needs to be answered: formulated to be easily understood for people\n",
    "- a breakdown of the question: formulated to be easily understood for computers\n",
    "- hints to help you write the code in which the breakdown results\n",
    "- and, if you're looking at the completed notebook, the answer"
   ]
  },
  {
   "cell_type": "markdown",
   "metadata": {
    "toc-hr-collapsed": true
   },
   "source": [
    "## 1a Total donations per party"
   ]
  },
  {
   "cell_type": "markdown",
   "metadata": {},
   "source": [
    "### Question\n",
    "Which party received the most money?"
   ]
  },
  {
   "cell_type": "markdown",
   "metadata": {},
   "source": [
    "### Breakdown\n",
    "- for every unique party in the dataset;\n",
    "    - filter dataframe: only donations to said party;\n",
    "    - while dataframe is filtered: sum the 'Value' column;\n",
    "    - store both party name and sum donations (add to list or df);\n",
    "- create table with all partynames + sum donations;\n",
    "- sort table from highest to lowest\n"
   ]
  },
  {
   "cell_type": "markdown",
   "metadata": {},
   "source": [
    "### Hints\n",
    "This can be done using:\n",
    "- ``.unique()``, to create a list with all unique parties\n",
    "- a for-loop to iterate over all parties from that list\n",
    "- a filtered dataframe, using ``df[df['column data should be filter on'] == 'value']``\n",
    "- ``.sum``, to sum all donations in filtered dataframe\n",
    "- ``.append``, to add data to list\n",
    "- ``pd.DataFrame()``, to turn a list of lists into a dataframe\n",
    "- ``sort_values(by='column name', ascending=False)``, to sort data\n",
    "\n",
    "Remember: this is a notebook. Use as many cells as you please. :) "
   ]
  },
  {
   "cell_type": "code",
   "execution_count": null,
   "metadata": {},
   "outputs": [],
   "source": []
  },
  {
   "cell_type": "markdown",
   "metadata": {
    "toc-hr-collapsed": true
   },
   "source": [
    "## 1b Percentage total donations per party"
   ]
  },
  {
   "cell_type": "markdown",
   "metadata": {},
   "source": [
    "### Question\n",
    "How much percentage of the total amount of donations made, went to the Liberal Democrats?"
   ]
  },
  {
   "cell_type": "markdown",
   "metadata": {},
   "source": [
    "### Breakdown\n",
    "- calculate the total amount of donations made;\n",
    "- for every party:\n",
    "    - calculate how much percentage of the total they received;\n",
    "    - store this percentages\n",
    "- add all percentages to dataframe\n",
    "- get percentage for Liberal Democrats"
   ]
  },
  {
   "cell_type": "markdown",
   "metadata": {},
   "source": [
    "### Hints\n",
    "This can be done using:\n",
    "- ``.unique()``, to create a list with all unique parties\n",
    "- a for-loop to iterate over all parties from that list\n",
    "- a filtered dataframe, using ``df[df['column data should be filter on'] == 'value']``\n",
    "- ``.sum``, to sum all donations in filtered dataframe\n",
    "- ``.append``, to add data to list\n",
    "- ``pd.DataFrame()``, to turn a list of lists into a dataframe\n",
    "- ``sort_values(by='column name', ascending=False)``, to sort data\n",
    "\n",
    "Note: this is 1b, it builds upon the dataframe you just created in exercise 1a. (In case you haven't finished that yet: do so first, or continue to exercise 2.)\n",
    "\n",
    "Oh, and remember: this is a notebook. Use as many cells as you please. :) "
   ]
  },
  {
   "cell_type": "code",
   "execution_count": null,
   "metadata": {},
   "outputs": [],
   "source": []
  },
  {
   "cell_type": "markdown",
   "metadata": {},
   "source": [
    "## 1c Store data without index\n",
    "As you have seen throughout this course; when exporting data Pandas includes an index, unless stated otherwise. \n",
    "\n",
    "Let's say you'd like to store the 'donationsPerParty' dataframe as a csv. You know to use ``.to_csv()``. Adding ``index=False``, will give you the same result minus the often useless index. Try it! "
   ]
  },
  {
   "cell_type": "code",
   "execution_count": null,
   "metadata": {},
   "outputs": [],
   "source": []
  },
  {
   "cell_type": "markdown",
   "metadata": {
    "toc-hr-collapsed": true
   },
   "source": [
    "## 2a count donations throughout the year"
   ]
  },
  {
   "cell_type": "markdown",
   "metadata": {},
   "source": [
    "### Question\n",
    "In which month are the most donations (count) made? "
   ]
  },
  {
   "cell_type": "markdown",
   "metadata": {},
   "source": [
    "### Breakdown\n",
    "- Group donations by year and month;\n",
    "- Use count not sum."
   ]
  },
  {
   "cell_type": "markdown",
   "metadata": {},
   "source": [
    "### Hints\n",
    "\n",
    "This can be done using:\n",
    "- the ``pivot_table`` command from pandas\n",
    "\n",
    "When using the ``pivot_table`` command, I always find it helpful to 'design' my desired table. By which I mean filling in the following blanks:   \n",
    "In the table that answers my question ('In which month are the most donations (count) made?'); there is a row for every _____________________;\n",
    "    - and a column for every _____________________; and the value in the cells is based on _____________________. \n",
    "    \n",
    "By thinking your pivot table through, the making of it is literally a fill in the blanks exercise. "
   ]
  },
  {
   "cell_type": "code",
   "execution_count": null,
   "metadata": {},
   "outputs": [],
   "source": []
  },
  {
   "cell_type": "markdown",
   "metadata": {},
   "source": [
    "The ``.pivot_table`` attribute, looks like this: \n",
    "\n",
    "``df.pivot_table(index=\"column(s) you want to use as index; use the 'for every row'-blank\", \n",
    "                 columns=\"for every unique value in this column, there will be a column made\n",
    "                           in your pivot table; use the 'column for every'-blank\",\n",
    "                           values=\"whatever you fill in here will populate the cells; use the 'value in cells'-blank\",\n",
    "                           aggfunc='count')``\n",
    "\n",
    "By filling out the blanks before, you probably will be able to fill in ``.pivot_table`` attribute. Note: you don't need to define the columns..."
   ]
  },
  {
   "cell_type": "code",
   "execution_count": null,
   "metadata": {},
   "outputs": [],
   "source": []
  },
  {
   "cell_type": "markdown",
   "metadata": {
    "toc-hr-collapsed": true
   },
   "source": [
    "## 2b sum donations throughout the year "
   ]
  },
  {
   "cell_type": "markdown",
   "metadata": {},
   "source": [
    "### Question\n",
    "In which month is the most money (sum donations) donated? "
   ]
  },
  {
   "cell_type": "markdown",
   "metadata": {},
   "source": [
    "### Breakdown\n",
    "- Group donations by year and month;\n",
    "- Use count not sum."
   ]
  },
  {
   "cell_type": "markdown",
   "metadata": {},
   "source": [
    "### Hints\n",
    "\n",
    "Similar to 2a, use the ``pivot_table`` command from pandas.\n",
    "\n",
    "Again, when using the ``pivot_table`` command, I always find it helpful to 'design' my desired table. By \n",
    "which I mean filling in the following blanks:   \n",
    "In the table that answers my question ('In which month are the most donations (count) made?'); there is a row for every _____________________;\n",
    "    - and a column for every _____________________; and the value in the cells is based on _____________________. \n",
    "    \n",
    "By thinking your pivot table through, the making of it is literally a fill in the blanks exercise. \n",
    "\n",
    "But, there's a difference. Instead of counting, we now want to sum values in our pivot table. To do that, I'll be using the sum function from numpy; a different Python library. \n",
    "\n",
    "Before we can get to it, we need to import numpy using ``import numpy as np``."
   ]
  },
  {
   "cell_type": "code",
   "execution_count": null,
   "metadata": {},
   "outputs": [],
   "source": []
  },
  {
   "cell_type": "markdown",
   "metadata": {},
   "source": [
    "With that out of our way, we can now go ahead and create a pivot_table that sums our data...\n",
    "\n",
    "Use the following template: \n",
    "\n",
    "When using the ``pivot_table`` command, I always find it helpful to 'design' my desired table. By which I mean filling in the following blanks:   \n",
    "In the table that answers my question ('In which month are the most donations (count) made?'); there is a row for every ________ (1) _____________;\n",
    "    - and a column for every _________ (2) ____________; and the value in the cells is based on ________ (3) _____________. \n",
    "\n",
    "``df.pivot_table(index=\"column or list of columns you want to use as index (1)\", \n",
    "                 columns=\"column or list of columns you want to use as columns (2)\",\n",
    "                           values=\"columns used to populate cells in pivot table (3)\",\n",
    "                           aggfunc=np.sum)``"
   ]
  },
  {
   "cell_type": "code",
   "execution_count": null,
   "metadata": {},
   "outputs": [],
   "source": []
  },
  {
   "cell_type": "markdown",
   "metadata": {},
   "source": [
    "Do you remember how to use ``sort_values()`` to figure out when the most money was donated? "
   ]
  },
  {
   "cell_type": "code",
   "execution_count": null,
   "metadata": {},
   "outputs": [],
   "source": []
  },
  {
   "cell_type": "markdown",
   "metadata": {
    "toc-hr-collapsed": true
   },
   "source": [
    "## 3a most money donated per person"
   ]
  },
  {
   "cell_type": "markdown",
   "metadata": {},
   "source": [
    "### Question\n",
    "What is the top 10 of people who donated the most money? "
   ]
  },
  {
   "cell_type": "markdown",
   "metadata": {},
   "source": [
    "### Breakdown\n",
    "- group data by DonorNames;\n",
    "- sum Values for every DonorName;\n",
    "- sort Values from highest to lowest;\n",
    "- only print top 10"
   ]
  },
  {
   "cell_type": "markdown",
   "metadata": {},
   "source": [
    "### Hints\n",
    "This can be done using:\n",
    "- ``pivot_table()`` and ``np.sum``\n",
    "- ``.sort_values``\n",
    "- ``head()``\n",
    "\n",
    "As you'll see in the completed notebook; I build upon my answer. Meaning: I first created the needed pivot table; then sorted it; then only printed the 10 first rows. Try it: "
   ]
  },
  {
   "cell_type": "code",
   "execution_count": null,
   "metadata": {},
   "outputs": [],
   "source": []
  },
  {
   "cell_type": "markdown",
   "metadata": {
    "toc-hr-collapsed": true
   },
   "source": [
    "## 3b most often donated"
   ]
  },
  {
   "cell_type": "markdown",
   "metadata": {},
   "source": [
    "### Question\n",
    "What is the top 10 of people who donated most often? "
   ]
  },
  {
   "cell_type": "markdown",
   "metadata": {},
   "source": [
    "### Breakdown\n",
    "- group data by DonorNames;\n",
    "- count occurences for every DonorName;\n",
    "- sort Values from highest to lowest;\n",
    "- only print top 10"
   ]
  },
  {
   "cell_type": "markdown",
   "metadata": {},
   "source": [
    "### Hints\n",
    "This can be done using:\n",
    "- ``pivot_table()`` and ``np.sum``\n",
    "- ``.sort_values``\n",
    "- ``head()``"
   ]
  },
  {
   "cell_type": "markdown",
   "metadata": {},
   "source": [
    "Since the table contains both donorid's and donorname, I'd recommend try and create pivot tables using both. Hopefully not getting any differences. (In real life, differences would mean further investigations since id-columns most often are unique identifiers...)"
   ]
  },
  {
   "cell_type": "code",
   "execution_count": null,
   "metadata": {},
   "outputs": [],
   "source": []
  }
 ],
 "metadata": {
  "kernelspec": {
   "display_name": "Python 3",
   "language": "python",
   "name": "python3"
  },
  "language_info": {
   "codemirror_mode": {
    "name": "ipython",
    "version": 3
   },
   "file_extension": ".py",
   "mimetype": "text/x-python",
   "name": "python",
   "nbconvert_exporter": "python",
   "pygments_lexer": "ipython3",
   "version": "3.8.5"
  },
  "toc-showcode": true
 },
 "nbformat": 4,
 "nbformat_minor": 4
}
